{
  "nbformat": 4,
  "nbformat_minor": 0,
  "metadata": {
    "colab": {
      "name": "Ch1Excercises.ipynb",
      "provenance": [],
      "authorship_tag": "ABX9TyO1tsOPSTKREBVq8x7mifIK",
      "include_colab_link": true
    },
    "kernelspec": {
      "name": "python3",
      "display_name": "Python 3"
    },
    "language_info": {
      "name": "python"
    }
  },
  "cells": [
    {
      "cell_type": "markdown",
      "metadata": {
        "id": "view-in-github",
        "colab_type": "text"
      },
      "source": [
        "<a href=\"https://colab.research.google.com/github/samsepiol404/samsepiol404/blob/main/Ch1Excercises.ipynb\" target=\"_parent\"><img src=\"https://colab.research.google.com/assets/colab-badge.svg\" alt=\"Open In Colab\"/></a>"
      ]
    },
    {
      "cell_type": "markdown",
      "metadata": {
        "id": "AFOnLrmsi4WQ"
      },
      "source": [
        "             **EXCERCISE 1.1**\n",
        "\n",
        "1. In a print statement, what happens if you leave out one of the parentheses, or both?\n",
        "2. If you are trying to print a string, what happens if you leave out one of the quotation marks,\n",
        "or both?\n",
        "3. You can use a minus sign to make a negative number like -2. What happens if you put a plus\n",
        "sign before a number? What about 2++2?\n",
        "4. In math notation, leading zeros are ok, as in 09. What happens if you try this in Python?\n",
        "What about 011?\n",
        "5. What happens if you have two values with no operator between them?"
      ]
    },
    {
      "cell_type": "code",
      "metadata": {
        "id": "6dBl7llfjSZq"
      },
      "source": [
        "print(\"Hello\""
      ],
      "execution_count": null,
      "outputs": []
    },
    {
      "cell_type": "code",
      "metadata": {
        "id": "ekrecFpejkol"
      },
      "source": [
        "print(\"string)"
      ],
      "execution_count": null,
      "outputs": []
    },
    {
      "cell_type": "code",
      "metadata": {
        "colab": {
          "base_uri": "https://localhost:8080/"
        },
        "id": "ofjjiQewjBJq",
        "outputId": "6c5aef00-502f-401c-d649-ce513543bbcf"
      },
      "source": [
        "print(2++2)"
      ],
      "execution_count": 8,
      "outputs": [
        {
          "output_type": "stream",
          "name": "stdout",
          "text": [
            "4\n"
          ]
        }
      ]
    },
    {
      "cell_type": "code",
      "metadata": {
        "id": "U7Vg8QhLkd5R"
      },
      "source": [
        "print(11+011)"
      ],
      "execution_count": null,
      "outputs": []
    },
    {
      "cell_type": "code",
      "metadata": {
        "colab": {
          "base_uri": "https://localhost:8080/"
        },
        "id": "MZNQLd4-lFIy",
        "outputId": "d0445c4d-a635-4d3a-9f6d-cdf70d0efdfc"
      },
      "source": [
        "print(22)"
      ],
      "execution_count": 14,
      "outputs": [
        {
          "output_type": "stream",
          "name": "stdout",
          "text": [
            "22\n"
          ]
        }
      ]
    },
    {
      "cell_type": "markdown",
      "metadata": {
        "id": "rRFtl7u0jGLM"
      },
      "source": [
        "              **ANSWERS**\n",
        "\n",
        "1. We will get a syntax error.\n",
        "2. We will get an error saying Name is not defined.\n",
        "3. Nothing will happen, + sign is considered as the number without that and is calculated.\n",
        "4. Python gives a syntax error as Invalid token.\n",
        "5. It is considered as a single number incase of integers. "
      ]
    },
    {
      "cell_type": "markdown",
      "metadata": {
        "id": "DmZd_CJXl7BY"
      },
      "source": [
        "             **EXCERCISE 1.2**\n",
        "\n",
        "1. How many seconds are there in 42 minutes 42 seconds?\n",
        "2. How many miles are there in 10 kilometers? Hint: there are 1.61 kilometers in a mile.\n",
        "3. If you run a 10 kilometer race in 42 minutes 42 seconds, what is your average pace (time per\n",
        "mile in minutes and seconds)? What is your average speed in miles per hour?"
      ]
    },
    {
      "cell_type": "code",
      "metadata": {
        "colab": {
          "base_uri": "https://localhost:8080/"
        },
        "id": "cWt26c3-mUzc",
        "outputId": "93c53933-388a-4953-f350-f94b36e120ba"
      },
      "source": [
        "seconds = 42*60+42\n",
        "print(seconds)"
      ],
      "execution_count": 15,
      "outputs": [
        {
          "output_type": "stream",
          "name": "stdout",
          "text": [
            "2562\n"
          ]
        }
      ]
    },
    {
      "cell_type": "code",
      "metadata": {
        "colab": {
          "base_uri": "https://localhost:8080/"
        },
        "id": "GJO6GTfsuLNQ",
        "outputId": "95cbc9e4-89b5-4fb7-9bef-cbfbef6fec2b"
      },
      "source": [
        "miles = 10*1.61\n",
        "print(miles)"
      ],
      "execution_count": 16,
      "outputs": [
        {
          "output_type": "stream",
          "name": "stdout",
          "text": [
            "16.1\n"
          ]
        }
      ]
    },
    {
      "cell_type": "code",
      "metadata": {
        "colab": {
          "base_uri": "https://localhost:8080/"
        },
        "id": "vSV8qBWjuTnm",
        "outputId": "8d661716-34aa-4e6b-abb7-9ca91f04db63"
      },
      "source": [
        "seconds= 42*60+42\n",
        "miles = 1.61*10\n",
        "minutes = seconds/60\n",
        "hours = minutes/60\n",
        "avgspeed = miles/hours\n",
        "print(avgspeed)"
      ],
      "execution_count": 17,
      "outputs": [
        {
          "output_type": "stream",
          "name": "stdout",
          "text": [
            "22.622950819672134\n"
          ]
        }
      ]
    },
    {
      "cell_type": "markdown",
      "metadata": {
        "id": "zglIYoiluICc"
      },
      "source": [
        "1. 2562\n",
        "2. 16.1\n",
        "3. 22.622"
      ]
    }
  ]
}